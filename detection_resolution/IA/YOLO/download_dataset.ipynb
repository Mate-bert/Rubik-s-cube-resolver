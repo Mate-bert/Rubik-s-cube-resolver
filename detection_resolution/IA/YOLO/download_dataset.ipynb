{
 "cells": [
  {
   "cell_type": "code",
   "execution_count": null,
   "metadata": {},
   "outputs": [],
   "source": [
    "#dataset 1\n",
    "!pip install roboflow\n",
    "\n",
    "from roboflow import Roboflow\n",
    "rf = Roboflow(api_key=\"tTvTO0sNg5RDR2K34I08\")\n",
    "project = rf.workspace(\"rubikscubesolverinstancesegmentation\").project(\"instance-segmentation-tpjgl\")\n",
    "version = project.version(2)\n",
    "dataset = version.download(\"yolov8-obb\")"
   ]
  }
 ],
 "metadata": {
  "language_info": {
   "name": "python"
  }
 },
 "nbformat": 4,
 "nbformat_minor": 2
}
